{
 "cells": [
  {
   "cell_type": "code",
   "execution_count": 1,
   "metadata": {},
   "outputs": [
    {
     "name": "stderr",
     "output_type": "stream",
     "text": [
      "/home/jonathan/.virtualenvs/segmentation/lib/python3.6/site-packages/torch/nn/_reduction.py:44: UserWarning: size_average and reduce args will be deprecated, please use reduction='mean' instead.\n",
      "  warnings.warn(warning.format(ret))\n"
     ]
    }
   ],
   "source": [
    "from fastai.basics import *\n",
    "from fastai.vision import models\n",
    "from fastai.vision.all import *\n",
    "from fastai.metrics import *\n",
    "from fastai.data.all import *\n",
    "from fastai.callback import *\n",
    "\n",
    "# SemTorch\n",
    "from semtorch import get_segmentation_learner\n",
    "\n",
    "from pathlib import Path\n",
    "import random"
   ]
  },
  {
   "cell_type": "code",
   "execution_count": 2,
   "metadata": {},
   "outputs": [],
   "source": [
    "import torch\n",
    "torch.cuda.set_device(2)"
   ]
  },
  {
   "cell_type": "code",
   "execution_count": 3,
   "metadata": {},
   "outputs": [],
   "source": [
    "%matplotlib inline\n",
    "import numpy as np"
   ]
  },
  {
   "cell_type": "markdown",
   "metadata": {},
   "source": [
    "\n",
    "\n",
    "Function por stablishing the seed for reproducibility\n"
   ]
  },
  {
   "cell_type": "code",
   "execution_count": 4,
   "metadata": {},
   "outputs": [],
   "source": [
    "number_of_the_seed = 2020\n",
    "\n",
    "random.seed(number_of_the_seed)\n",
    "set_seed(number_of_the_seed)\n",
    "torch.backends.cudnn.deterministic = True\n",
    "torch.backends.cudnn.benchmark = False"
   ]
  },
  {
   "cell_type": "code",
   "execution_count": 5,
   "metadata": {},
   "outputs": [],
   "source": [
    "path = Path(\"dataset/\")\n",
    "path_images = path/\"Images\"\n",
    "path_labels = path/\"Labels\"\n",
    "\n",
    "test_name = \"test\""
   ]
  },
  {
   "cell_type": "markdown",
   "metadata": {},
   "source": [
    "Obtaining the label associated with an image, in the case of segmentation it is a mask"
   ]
  },
  {
   "cell_type": "code",
   "execution_count": 6,
   "metadata": {},
   "outputs": [],
   "source": [
    "get_y_fn = lambda x: Path(str(x).replace(\"Images\",\"Labels\").replace(\"color\",\"gt\").replace(\".jpg\",\".png\"))"
   ]
  },
  {
   "cell_type": "markdown",
   "metadata": {},
   "source": [
    "\n",
    "\n",
    "Aux function for splitting between training and testing\n"
   ]
  },
  {
   "cell_type": "code",
   "execution_count": 7,
   "metadata": {},
   "outputs": [],
   "source": [
    "def ParentSplitter(x):\n",
    "    return Path(x).parent.name==test_name"
   ]
  },
  {
   "cell_type": "markdown",
   "metadata": {},
   "source": [
    "Loading the codes of the different classes. All the datasets have the same codes."
   ]
  },
  {
   "cell_type": "code",
   "execution_count": 8,
   "metadata": {},
   "outputs": [],
   "source": [
    "codes = np.loadtxt(path/'codes.txt', dtype=str)"
   ]
  },
  {
   "cell_type": "code",
   "execution_count": 9,
   "metadata": {},
   "outputs": [],
   "source": [
    "def msa(input, target):\n",
    "    target = target.squeeze(1)\n",
    "    mask = target != -1\n",
    "    return (input.argmax(dim=1)[mask]==target[mask]).float().mean()\n",
    "\n",
    "def background(input, target):\n",
    "    target = target.squeeze(1)\n",
    "    mask = target != 0\n",
    "    return (input.argmax(dim=1)[mask]==target[mask]).float().mean()\n",
    "\n",
    "def leaves(input, target):\n",
    "    target = target.squeeze(1)\n",
    "    mask = target != 1\n",
    "    return (input.argmax(dim=1)[mask]==target[mask]).float().mean()\n",
    "\n",
    "def wood(input, target):\n",
    "    target = target.squeeze(1)\n",
    "    mask = target != 2\n",
    "    return (input.argmax(dim=1)[mask]==target[mask]).float().mean()\n",
    "\n",
    "def pole(input, target):\n",
    "    target = target.squeeze(1)\n",
    "    mask = target != 3\n",
    "    return (input.argmax(dim=1)[mask]==target[mask]).float().mean()\n",
    "\n",
    "def grape(input, target):\n",
    "    target = target.squeeze(1)\n",
    "    mask = target != 4\n",
    "    return (input.argmax(dim=1)[mask]==target[mask]).float().mean()"
   ]
  },
  {
   "cell_type": "markdown",
   "metadata": {},
   "source": [
    "Early Stopping parameters"
   ]
  },
  {
   "cell_type": "code",
   "execution_count": 10,
   "metadata": {},
   "outputs": [],
   "source": [
    "monitor_training=\"valid_loss\"\n",
    "comp_training=np.less\n",
    "\n",
    "monitor_evaluating=\"dice\"\n",
    "comp_evaluating=np.greater\n",
    "\n",
    "patience=3"
   ]
  },
  {
   "cell_type": "code",
   "execution_count": 11,
   "metadata": {},
   "outputs": [],
   "source": [
    "from albumentations import (\n",
    "    Compose,\n",
    "    OneOf,\n",
    "    ElasticTransform,\n",
    "    GridDistortion, \n",
    "    OpticalDistortion,\n",
    "    Flip,\n",
    "    Rotate,\n",
    "    Transpose,\n",
    "    CLAHE,\n",
    "    ShiftScaleRotate\n",
    ")"
   ]
  },
  {
   "cell_type": "code",
   "execution_count": 12,
   "metadata": {},
   "outputs": [],
   "source": [
    "class SegmentationAlbumentationsTransform(ItemTransform):\n",
    "    split_idx = 0\n",
    "    def __init__(self, aug): \n",
    "        self.aug = aug\n",
    "    def encodes(self, x):\n",
    "        img,mask = x\n",
    "        aug = self.aug(image=np.array(img), mask=np.array(mask))\n",
    "        return PILImage.create(aug[\"image\"]), PILMask.create(aug[\"mask\"])\n",
    "    \n",
    "transformPipeline=Compose([\n",
    "                        Flip(p=0.5),\n",
    "                        Transpose(p=0.5),\n",
    "                        Rotate(p=0.40,limit=10),GridDistortion()\n",
    "                    ],p=1)\n",
    "\n",
    "transformPipeline=SegmentationAlbumentationsTransform(transformPipeline)"
   ]
  },
  {
   "cell_type": "code",
   "execution_count": 13,
   "metadata": {},
   "outputs": [],
   "source": [
    "class TargetMaskConvertTransform(ItemTransform):\n",
    "    def __init__(self): \n",
    "        pass\n",
    "    def encodes(self, x):\n",
    "        img,mask = x\n",
    "        \n",
    "        #Convert to array\n",
    "        mask = np.array(mask)\n",
    "        \n",
    "        # Change 255 for 4\n",
    "        mask[mask==255]=4\n",
    "        mask[mask==150]=1\n",
    "        mask[mask==76]=3\n",
    "        mask[mask==74]=3\n",
    "        mask[mask==29]=2\n",
    "        mask[mask==25]=2\n",
    "        \n",
    "        # Back to PILMask\n",
    "        mask = PILMask.create(mask)\n",
    "        return img, mask"
   ]
  },
  {
   "cell_type": "code",
   "execution_count": 14,
   "metadata": {},
   "outputs": [],
   "source": [
    "path_manual_img = path_images/'train'\n",
    "path_manual_lbl = path_labels/'train'"
   ]
  },
  {
   "cell_type": "code",
   "execution_count": 15,
   "metadata": {},
   "outputs": [
    {
     "name": "stdout",
     "output_type": "stream",
     "text": [
      "dataset/Images/train/color_159.jpg\n"
     ]
    },
    {
     "data": {
      "text/plain": [
       "<AxesSubplot:>"
      ]
     },
     "execution_count": 15,
     "metadata": {},
     "output_type": "execute_result"
    },
    {
     "data": {
      "image/png": "[encoded data removed]",
      "text/plain": [
       "<Figure size 360x360 with 1 Axes>"
      ]
     },
     "metadata": {
      "needs_background": "light"
     },
     "output_type": "display_data"
    }
   ],
   "source": [
    "fnames_manual = get_image_files(path_manual_img)\n",
    "lbl_names_manual = get_image_files(path_manual_lbl)\n",
    "\n",
    "# open and show image\n",
    "img_f = fnames_manual[10]\n",
    "print(img_f)\n",
    "img = PILImage.create(img_f)\n",
    "img.show(figsize=(5, 5))"
   ]
  },
  {
   "cell_type": "code",
   "execution_count": 16,
   "metadata": {},
   "outputs": [
    {
     "name": "stdout",
     "output_type": "stream",
     "text": [
      "dataset/Labels/train/gt_159.png\n"
     ]
    }
   ],
   "source": [
    "print(get_y_fn(img_f))"
   ]
  },
  {
   "cell_type": "code",
   "execution_count": 17,
   "metadata": {},
   "outputs": [
    {
     "data": {
      "text/plain": [
       "<AxesSubplot:>"
      ]
     },
     "execution_count": 17,
     "metadata": {},
     "output_type": "execute_result"
    },
    {
     "data": {
      "image/png": "[encoded data removed]",
      "text/plain": [
       "<Figure size 360x360 with 1 Axes>"
      ]
     },
     "metadata": {
      "needs_background": "light"
     },
     "output_type": "display_data"
    }
   ],
   "source": [
    "mask = PILMask.create(get_y_fn(img_f))\n",
    "mask.show(figsize=(5, 5), alpha=1)"
   ]
  },
  {
   "cell_type": "code",
   "execution_count": 18,
   "metadata": {},
   "outputs": [
    {
     "data": {
      "text/plain": [
       "array([  0,  29,  76, 150, 255], dtype=uint8)"
      ]
     },
     "execution_count": 18,
     "metadata": {},
     "output_type": "execute_result"
    }
   ],
   "source": [
    "np.unique(np.array(mask))"
   ]
  },
  {
   "cell_type": "code",
   "execution_count": 19,
   "metadata": {},
   "outputs": [],
   "source": [
    "bs = 4"
   ]
  },
  {
   "cell_type": "code",
   "execution_count": 20,
   "metadata": {},
   "outputs": [
    {
     "data": {
      "text/plain": [
       "array(['Background', 'Leaves', 'Wood', 'Pole', 'Grape'], dtype='<U10')"
      ]
     },
     "execution_count": 20,
     "metadata": {},
     "output_type": "execute_result"
    }
   ],
   "source": [
    "codes"
   ]
  },
  {
   "cell_type": "code",
   "execution_count": 21,
   "metadata": {},
   "outputs": [],
   "source": [
    "def my_get_items(folders,path):\n",
    "    return (get_image_files(path))"
   ]
  },
  {
   "cell_type": "code",
   "execution_count": 22,
   "metadata": {},
   "outputs": [],
   "source": [
    "manual = DataBlock(blocks=(ImageBlock, MaskBlock(codes)),\n",
    "                   get_items=partial(get_image_files,folders=['train','test']),\n",
    "                   get_y=get_y_fn,\n",
    "                   splitter=FuncSplitter(ParentSplitter),\n",
    "                   item_tfms=[Resize((480,640)), TargetMaskConvertTransform(), transformPipeline],\n",
    "                   batch_tfms=Normalize.from_stats(*imagenet_stats)\n",
    "                  )\n",
    "#manual.summary(path_images)\n",
    "dls = manual.dataloaders(path_images,bs=bs)\n",
    "#dls.show_batch(vmin=0,vmax=1,figsize=(12, 9))"
   ]
  },
  {
   "cell_type": "code",
   "execution_count": 23,
   "metadata": {},
   "outputs": [],
   "source": [
    "#x,mask=dls.one_batch()"
   ]
  },
  {
   "cell_type": "markdown",
   "metadata": {},
   "source": [
    "# Bisenet"
   ]
  },
  {
   "cell_type": "code",
   "execution_count": 24,
   "metadata": {},
   "outputs": [],
   "source": [
    "from architectures import ContextNet"
   ]
  },
  {
   "cell_type": "code",
   "execution_count": 25,
   "metadata": {},
   "outputs": [],
   "source": [
    "model = ContextNet(nclass=5)"
   ]
  },
  {
   "cell_type": "code",
   "execution_count": 26,
   "metadata": {},
   "outputs": [],
   "source": [
    "learn = Learner(dls,model,metrics=[background,leaves,pole,grape,wood,msa]).to_fp16()"
   ]
  },
  {
   "cell_type": "code",
   "execution_count": 27,
   "metadata": {},
   "outputs": [
    {
     "data": {
      "text/html": [],
      "text/plain": [
       "<IPython.core.display.HTML object>"
      ]
     },
     "metadata": {},
     "output_type": "display_data"
    },
    {
     "name": "stderr",
     "output_type": "stream",
     "text": [
      "/home/jonathan/.virtualenvs/segmentation/lib/python3.6/site-packages/torch/nn/functional.py:3103: UserWarning: The default behavior for interpolate/upsample with float scale_factor changed in 1.6.0 to align with other frameworks/libraries, and now uses scale_factor directly, instead of relying on the computed output size. If you wish to restore the old behavior, please set recompute_scale_factor=True. See the documentation of nn.Upsample for details. \n",
      "  warnings.warn(\"The default behavior for interpolate/upsample with float scale_factor changed \"\n"
     ]
    },
    {
     "data": {
      "text/plain": [
       "Recorder"
      ]
     },
     "execution_count": 27,
     "metadata": {},
     "output_type": "execute_result"
    },
    {
     "data": {
      "image/png": "[encoded data removed]",
      "text/plain": [
       "<Figure size 432x288 with 1 Axes>"
      ]
     },
     "metadata": {
      "needs_background": "light"
     },
     "output_type": "display_data"
    }
   ],
   "source": [
    "learn.lr_find() # find learning rate\n",
    "learn.recorder # plot learning rate graph"
   ]
  },
  {
   "cell_type": "code",
   "execution_count": 29,
   "metadata": {},
   "outputs": [
    {
     "data": {
      "text/html": [
       "<table border=\"1\" class=\"dataframe\">\n",
       "  <thead>\n",
       "    <tr style=\"text-align: left;\">\n",
       "      <th>epoch</th>\n",
       "      <th>train_loss</th>\n",
       "      <th>valid_loss</th>\n",
       "      <th>background</th>\n",
       "      <th>leaves</th>\n",
       "      <th>pole</th>\n",
       "      <th>grape</th>\n",
       "      <th>wood</th>\n",
       "      <th>msa</th>\n",
       "      <th>time</th>\n",
       "    </tr>\n",
       "  </thead>\n",
       "  <tbody>\n",
       "    <tr>\n",
       "      <td>0</td>\n",
       "      <td>1.465412</td>\n",
       "      <td>1.546819</td>\n",
       "      <td>0.013603</td>\n",
       "      <td>0.557722</td>\n",
       "      <td>0.317640</td>\n",
       "      <td>0.310009</td>\n",
       "      <td>0.319060</td>\n",
       "      <td>0.313136</td>\n",
       "      <td>00:02</td>\n",
       "    </tr>\n",
       "    <tr>\n",
       "      <td>1</td>\n",
       "      <td>1.352221</td>\n",
       "      <td>1.248009</td>\n",
       "      <td>0.151898</td>\n",
       "      <td>0.898066</td>\n",
       "      <td>0.587483</td>\n",
       "      <td>0.585842</td>\n",
       "      <td>0.590054</td>\n",
       "      <td>0.579046</td>\n",
       "      <td>00:02</td>\n",
       "    </tr>\n",
       "    <tr>\n",
       "      <td>2</td>\n",
       "      <td>1.132513</td>\n",
       "      <td>0.985438</td>\n",
       "      <td>0.818518</td>\n",
       "      <td>0.541177</td>\n",
       "      <td>0.714104</td>\n",
       "      <td>0.712120</td>\n",
       "      <td>0.717247</td>\n",
       "      <td>0.703896</td>\n",
       "      <td>00:02</td>\n",
       "    </tr>\n",
       "    <tr>\n",
       "      <td>3</td>\n",
       "      <td>0.928658</td>\n",
       "      <td>0.694367</td>\n",
       "      <td>0.740877</td>\n",
       "      <td>0.728782</td>\n",
       "      <td>0.781066</td>\n",
       "      <td>0.778910</td>\n",
       "      <td>0.784479</td>\n",
       "      <td>0.769848</td>\n",
       "      <td>00:02</td>\n",
       "    </tr>\n",
       "    <tr>\n",
       "      <td>4</td>\n",
       "      <td>0.788912</td>\n",
       "      <td>0.611228</td>\n",
       "      <td>0.797131</td>\n",
       "      <td>0.710201</td>\n",
       "      <td>0.797294</td>\n",
       "      <td>0.795076</td>\n",
       "      <td>0.800367</td>\n",
       "      <td>0.785829</td>\n",
       "      <td>00:02</td>\n",
       "    </tr>\n",
       "    <tr>\n",
       "      <td>5</td>\n",
       "      <td>0.687704</td>\n",
       "      <td>0.574363</td>\n",
       "      <td>0.797295</td>\n",
       "      <td>0.730187</td>\n",
       "      <td>0.806690</td>\n",
       "      <td>0.804461</td>\n",
       "      <td>0.807429</td>\n",
       "      <td>0.795120</td>\n",
       "      <td>00:02</td>\n",
       "    </tr>\n",
       "    <tr>\n",
       "      <td>6</td>\n",
       "      <td>0.618086</td>\n",
       "      <td>0.612111</td>\n",
       "      <td>0.817214</td>\n",
       "      <td>0.678389</td>\n",
       "      <td>0.786750</td>\n",
       "      <td>0.784547</td>\n",
       "      <td>0.786642</td>\n",
       "      <td>0.775461</td>\n",
       "      <td>00:02</td>\n",
       "    </tr>\n",
       "    <tr>\n",
       "      <td>7</td>\n",
       "      <td>0.566936</td>\n",
       "      <td>0.588955</td>\n",
       "      <td>0.815229</td>\n",
       "      <td>0.701010</td>\n",
       "      <td>0.798014</td>\n",
       "      <td>0.795602</td>\n",
       "      <td>0.797871</td>\n",
       "      <td>0.786564</td>\n",
       "      <td>00:02</td>\n",
       "    </tr>\n",
       "    <tr>\n",
       "      <td>8</td>\n",
       "      <td>0.522350</td>\n",
       "      <td>0.572594</td>\n",
       "      <td>0.827127</td>\n",
       "      <td>0.689199</td>\n",
       "      <td>0.794819</td>\n",
       "      <td>0.791210</td>\n",
       "      <td>0.793119</td>\n",
       "      <td>0.783428</td>\n",
       "      <td>00:02</td>\n",
       "    </tr>\n",
       "    <tr>\n",
       "      <td>9</td>\n",
       "      <td>0.489098</td>\n",
       "      <td>0.539265</td>\n",
       "      <td>0.812182</td>\n",
       "      <td>0.726597</td>\n",
       "      <td>0.810546</td>\n",
       "      <td>0.807907</td>\n",
       "      <td>0.810258</td>\n",
       "      <td>0.798930</td>\n",
       "      <td>00:02</td>\n",
       "    </tr>\n",
       "    <tr>\n",
       "      <td>10</td>\n",
       "      <td>0.464867</td>\n",
       "      <td>0.557241</td>\n",
       "      <td>0.820185</td>\n",
       "      <td>0.705719</td>\n",
       "      <td>0.798491</td>\n",
       "      <td>0.796369</td>\n",
       "      <td>0.796547</td>\n",
       "      <td>0.787759</td>\n",
       "      <td>00:02</td>\n",
       "    </tr>\n",
       "    <tr>\n",
       "      <td>11</td>\n",
       "      <td>0.447928</td>\n",
       "      <td>0.522844</td>\n",
       "      <td>0.803694</td>\n",
       "      <td>0.740903</td>\n",
       "      <td>0.812758</td>\n",
       "      <td>0.809425</td>\n",
       "      <td>0.812372</td>\n",
       "      <td>0.801354</td>\n",
       "      <td>00:02</td>\n",
       "    </tr>\n",
       "    <tr>\n",
       "      <td>12</td>\n",
       "      <td>0.430928</td>\n",
       "      <td>0.506857</td>\n",
       "      <td>0.796857</td>\n",
       "      <td>0.756679</td>\n",
       "      <td>0.815597</td>\n",
       "      <td>0.810987</td>\n",
       "      <td>0.815753</td>\n",
       "      <td>0.804746</td>\n",
       "      <td>00:02</td>\n",
       "    </tr>\n",
       "    <tr>\n",
       "      <td>13</td>\n",
       "      <td>0.414066</td>\n",
       "      <td>0.495864</td>\n",
       "      <td>0.807029</td>\n",
       "      <td>0.754474</td>\n",
       "      <td>0.820154</td>\n",
       "      <td>0.818421</td>\n",
       "      <td>0.821454</td>\n",
       "      <td>0.809927</td>\n",
       "      <td>00:02</td>\n",
       "    </tr>\n",
       "    <tr>\n",
       "      <td>14</td>\n",
       "      <td>0.402399</td>\n",
       "      <td>0.500020</td>\n",
       "      <td>0.816427</td>\n",
       "      <td>0.747093</td>\n",
       "      <td>0.818839</td>\n",
       "      <td>0.815611</td>\n",
       "      <td>0.819974</td>\n",
       "      <td>0.808678</td>\n",
       "      <td>00:02</td>\n",
       "    </tr>\n",
       "    <tr>\n",
       "      <td>15</td>\n",
       "      <td>0.392919</td>\n",
       "      <td>0.501333</td>\n",
       "      <td>0.811624</td>\n",
       "      <td>0.746799</td>\n",
       "      <td>0.815973</td>\n",
       "      <td>0.813106</td>\n",
       "      <td>0.817649</td>\n",
       "      <td>0.806190</td>\n",
       "      <td>00:02</td>\n",
       "    </tr>\n",
       "    <tr>\n",
       "      <td>16</td>\n",
       "      <td>0.382575</td>\n",
       "      <td>0.498830</td>\n",
       "      <td>0.825284</td>\n",
       "      <td>0.739760</td>\n",
       "      <td>0.817854</td>\n",
       "      <td>0.815040</td>\n",
       "      <td>0.819097</td>\n",
       "      <td>0.808130</td>\n",
       "      <td>00:03</td>\n",
       "    </tr>\n",
       "  </tbody>\n",
       "</table>"
      ],
      "text/plain": [
       "<IPython.core.display.HTML object>"
      ]
     },
     "metadata": {},
     "output_type": "display_data"
    },
    {
     "name": "stdout",
     "output_type": "stream",
     "text": [
      "Better model found at epoch 0 with valid_loss value: 1.5468186140060425.\n"
     ]
    },
    {
     "data": {
      "image/png": "[encoded data removed]",
      "text/plain": [
       "<Figure size 432x288 with 1 Axes>"
      ]
     },
     "metadata": {},
     "output_type": "display_data"
    },
    {
     "name": "stdout",
     "output_type": "stream",
     "text": [
      "Better model found at epoch 1 with valid_loss value: 1.2480087280273438.\n",
      "Better model found at epoch 2 with valid_loss value: 0.9854384064674377.\n",
      "Better model found at epoch 3 with valid_loss value: 0.6943670511245728.\n",
      "Better model found at epoch 4 with valid_loss value: 0.6112281084060669.\n",
      "Better model found at epoch 5 with valid_loss value: 0.5743634104728699.\n",
      "Better model found at epoch 8 with valid_loss value: 0.5725938677787781.\n",
      "Better model found at epoch 9 with valid_loss value: 0.5392650961875916.\n",
      "Better model found at epoch 11 with valid_loss value: 0.5228443741798401.\n",
      "Better model found at epoch 12 with valid_loss value: 0.5068574547767639.\n",
      "Better model found at epoch 13 with valid_loss value: 0.49586373567581177.\n",
      "No improvement since epoch 13: early stopping\n"
     ]
    }
   ],
   "source": [
    "fname=\"deeplab-before-unfreeze\"\n",
    "\n",
    "callbacksFitBeforeUnfreeze = [\n",
    "    ShowGraphCallback(),\n",
    "    EarlyStoppingCallback(monitor=monitor_training,comp=comp_training, patience=patience),\n",
    "    SaveModelCallback(monitor=monitor_training,comp=comp_training,every_epoch=False,fname=fname)  \n",
    "]\n",
    "learn.fit_one_cycle(20, slice(1e-4,1e-3),cbs=callbacksFitBeforeUnfreeze)"
   ]
  },
  {
   "cell_type": "code",
   "execution_count": 30,
   "metadata": {},
   "outputs": [
    {
     "name": "stderr",
     "output_type": "stream",
     "text": [
      "/home/jonathan/.virtualenvs/segmentation/lib/python3.6/site-packages/fastai/learner.py:56: UserWarning: Saved filed doesn't contain an optimizer state.\n",
      "  elif with_opt: warn(\"Saved filed doesn't contain an optimizer state.\")\n"
     ]
    }
   ],
   "source": [
    "learn.load(\"deeplab-before-unfreeze\")\n",
    "learn.unfreeze()\n",
    "#learn.lr_find() # find learning rate\n",
    "#learn.recorder # plot learning rate graph"
   ]
  },
  {
   "cell_type": "code",
   "execution_count": 31,
   "metadata": {},
   "outputs": [
    {
     "data": {
      "text/html": [
       "<table border=\"1\" class=\"dataframe\">\n",
       "  <thead>\n",
       "    <tr style=\"text-align: left;\">\n",
       "      <th>epoch</th>\n",
       "      <th>train_loss</th>\n",
       "      <th>valid_loss</th>\n",
       "      <th>background</th>\n",
       "      <th>leaves</th>\n",
       "      <th>pole</th>\n",
       "      <th>grape</th>\n",
       "      <th>wood</th>\n",
       "      <th>msa</th>\n",
       "      <th>time</th>\n",
       "    </tr>\n",
       "  </thead>\n",
       "  <tbody>\n",
       "    <tr>\n",
       "      <td>0</td>\n",
       "      <td>0.371450</td>\n",
       "      <td>0.494596</td>\n",
       "      <td>0.819094</td>\n",
       "      <td>0.745079</td>\n",
       "      <td>0.820122</td>\n",
       "      <td>0.817267</td>\n",
       "      <td>0.820900</td>\n",
       "      <td>0.809668</td>\n",
       "      <td>00:02</td>\n",
       "    </tr>\n",
       "    <tr>\n",
       "      <td>1</td>\n",
       "      <td>0.365769</td>\n",
       "      <td>0.491371</td>\n",
       "      <td>0.815819</td>\n",
       "      <td>0.752096</td>\n",
       "      <td>0.822424</td>\n",
       "      <td>0.819682</td>\n",
       "      <td>0.823454</td>\n",
       "      <td>0.812030</td>\n",
       "      <td>00:02</td>\n",
       "    </tr>\n",
       "    <tr>\n",
       "      <td>2</td>\n",
       "      <td>0.371587</td>\n",
       "      <td>0.487847</td>\n",
       "      <td>0.811839</td>\n",
       "      <td>0.758561</td>\n",
       "      <td>0.824849</td>\n",
       "      <td>0.822113</td>\n",
       "      <td>0.826026</td>\n",
       "      <td>0.814283</td>\n",
       "      <td>00:02</td>\n",
       "    </tr>\n",
       "    <tr>\n",
       "      <td>3</td>\n",
       "      <td>0.367246</td>\n",
       "      <td>0.494454</td>\n",
       "      <td>0.820236</td>\n",
       "      <td>0.743420</td>\n",
       "      <td>0.819350</td>\n",
       "      <td>0.816419</td>\n",
       "      <td>0.820289</td>\n",
       "      <td>0.809028</td>\n",
       "      <td>00:02</td>\n",
       "    </tr>\n",
       "    <tr>\n",
       "      <td>4</td>\n",
       "      <td>0.363956</td>\n",
       "      <td>0.491139</td>\n",
       "      <td>0.816955</td>\n",
       "      <td>0.749692</td>\n",
       "      <td>0.821937</td>\n",
       "      <td>0.819117</td>\n",
       "      <td>0.823032</td>\n",
       "      <td>0.811476</td>\n",
       "      <td>00:02</td>\n",
       "    </tr>\n",
       "    <tr>\n",
       "      <td>5</td>\n",
       "      <td>0.365515</td>\n",
       "      <td>0.494291</td>\n",
       "      <td>0.818807</td>\n",
       "      <td>0.745782</td>\n",
       "      <td>0.820549</td>\n",
       "      <td>0.817625</td>\n",
       "      <td>0.821617</td>\n",
       "      <td>0.810092</td>\n",
       "      <td>00:02</td>\n",
       "    </tr>\n",
       "  </tbody>\n",
       "</table>"
      ],
      "text/plain": [
       "<IPython.core.display.HTML object>"
      ]
     },
     "metadata": {},
     "output_type": "display_data"
    },
    {
     "name": "stdout",
     "output_type": "stream",
     "text": [
      "Better model found at epoch 0 with valid_loss value: 0.4945962429046631.\n"
     ]
    },
    {
     "data": {
      "image/png": "[encoded data removed]",
      "text/plain": [
       "<Figure size 432x288 with 1 Axes>"
      ]
     },
     "metadata": {},
     "output_type": "display_data"
    },
    {
     "name": "stdout",
     "output_type": "stream",
     "text": [
      "Better model found at epoch 1 with valid_loss value: 0.49137094616889954.\n",
      "Better model found at epoch 2 with valid_loss value: 0.48784732818603516.\n",
      "No improvement since epoch 2: early stopping\n"
     ]
    }
   ],
   "source": [
    "fname=\"ContextNet\"\n",
    "\n",
    "\n",
    "callbacksFitAfterUnfreeze = [\n",
    "    ShowGraphCallback(),\n",
    "    EarlyStoppingCallback(monitor=monitor_training,comp=comp_training, patience=patience),\n",
    "    SaveModelCallback(monitor=monitor_training,comp=comp_training,every_epoch=False,fname=fname)  \n",
    "]\n",
    "learn.fit_one_cycle(20, slice(1e-7,1e-7),cbs=callbacksFitAfterUnfreeze)"
   ]
  },
  {
   "cell_type": "code",
   "execution_count": 32,
   "metadata": {},
   "outputs": [
    {
     "data": {
      "text/html": [],
      "text/plain": [
       "<IPython.core.display.HTML object>"
      ]
     },
     "metadata": {},
     "output_type": "display_data"
    },
    {
     "data": {
      "text/plain": [
       "(#7) [0.48784732818603516,0.8118389844894409,0.7585614919662476,0.8248485326766968,0.8221128582954407,0.8260260820388794,0.8142831921577454]"
      ]
     },
     "execution_count": 32,
     "metadata": {},
     "output_type": "execute_result"
    }
   ],
   "source": [
    "learn.validate()"
   ]
  },
  {
   "cell_type": "code",
   "execution_count": null,
   "metadata": {},
   "outputs": [],
   "source": [
    "learn.show_results(figsize=(20,20))"
   ]
  },
  {
   "cell_type": "code",
   "execution_count": null,
   "metadata": {},
   "outputs": [],
   "source": [
    "aux=learn.model\n",
    "aux=aux.cpu()\n",
    "\n",
    "traced_cell=torch.jit.script(aux)\n",
    "traced_cell.save(\"deeplab.pth\")"
   ]
  },
  {
   "cell_type": "code",
   "execution_count": 32,
   "metadata": {},
   "outputs": [
    {
     "data": {
      "text/plain": [
       "RecursiveScriptModule(\n",
       "  original_name=DeepLabV3Plus\n",
       "  (backbone): RecursiveScriptModule(\n",
       "    original_name=ResNetV1\n",
       "    (conv1): RecursiveScriptModule(original_name=Conv2d)\n",
       "    (bn1): RecursiveScriptModule(original_name=BatchNorm2d)\n",
       "    (relu): RecursiveScriptModule(original_name=ReLU)\n",
       "    (maxpool): RecursiveScriptModule(original_name=MaxPool2d)\n",
       "    (layer1): RecursiveScriptModule(\n",
       "      original_name=Sequential\n",
       "      (0): RecursiveScriptModule(\n",
       "        original_name=BottleneckV1b\n",
       "        (conv1): RecursiveScriptModule(original_name=Conv2d)\n",
       "        (bn1): RecursiveScriptModule(original_name=BatchNorm2d)\n",
       "        (conv2): RecursiveScriptModule(original_name=Conv2d)\n",
       "        (bn2): RecursiveScriptModule(original_name=BatchNorm2d)\n",
       "        (conv3): RecursiveScriptModule(original_name=Conv2d)\n",
       "        (bn3): RecursiveScriptModule(original_name=BatchNorm2d)\n",
       "        (relu): RecursiveScriptModule(original_name=ReLU)\n",
       "        (downsample): RecursiveScriptModule(\n",
       "          original_name=Sequential\n",
       "          (0): RecursiveScriptModule(original_name=Conv2d)\n",
       "          (1): RecursiveScriptModule(original_name=BatchNorm2d)\n",
       "        )\n",
       "      )\n",
       "      (1): RecursiveScriptModule(\n",
       "        original_name=BottleneckV1b\n",
       "        (conv1): RecursiveScriptModule(original_name=Conv2d)\n",
       "        (bn1): RecursiveScriptModule(original_name=BatchNorm2d)\n",
       "        (conv2): RecursiveScriptModule(original_name=Conv2d)\n",
       "        (bn2): RecursiveScriptModule(original_name=BatchNorm2d)\n",
       "        (conv3): RecursiveScriptModule(original_name=Conv2d)\n",
       "        (bn3): RecursiveScriptModule(original_name=BatchNorm2d)\n",
       "        (relu): RecursiveScriptModule(original_name=ReLU)\n",
       "      )\n",
       "      (2): RecursiveScriptModule(\n",
       "        original_name=BottleneckV1b\n",
       "        (conv1): RecursiveScriptModule(original_name=Conv2d)\n",
       "        (bn1): RecursiveScriptModule(original_name=BatchNorm2d)\n",
       "        (conv2): RecursiveScriptModule(original_name=Conv2d)\n",
       "        (bn2): RecursiveScriptModule(original_name=BatchNorm2d)\n",
       "        (conv3): RecursiveScriptModule(original_name=Conv2d)\n",
       "        (bn3): RecursiveScriptModule(original_name=BatchNorm2d)\n",
       "        (relu): RecursiveScriptModule(original_name=ReLU)\n",
       "      )\n",
       "    )\n",
       "    (layer2): RecursiveScriptModule(\n",
       "      original_name=Sequential\n",
       "      (0): RecursiveScriptModule(\n",
       "        original_name=BottleneckV1b\n",
       "        (conv1): RecursiveScriptModule(original_name=Conv2d)\n",
       "        (bn1): RecursiveScriptModule(original_name=BatchNorm2d)\n",
       "        (conv2): RecursiveScriptModule(original_name=Conv2d)\n",
       "        (bn2): RecursiveScriptModule(original_name=BatchNorm2d)\n",
       "        (conv3): RecursiveScriptModule(original_name=Conv2d)\n",
       "        (bn3): RecursiveScriptModule(original_name=BatchNorm2d)\n",
       "        (relu): RecursiveScriptModule(original_name=ReLU)\n",
       "        (downsample): RecursiveScriptModule(\n",
       "          original_name=Sequential\n",
       "          (0): RecursiveScriptModule(original_name=Conv2d)\n",
       "          (1): RecursiveScriptModule(original_name=BatchNorm2d)\n",
       "        )\n",
       "      )\n",
       "      (1): RecursiveScriptModule(\n",
       "        original_name=BottleneckV1b\n",
       "        (conv1): RecursiveScriptModule(original_name=Conv2d)\n",
       "        (bn1): RecursiveScriptModule(original_name=BatchNorm2d)\n",
       "        (conv2): RecursiveScriptModule(original_name=Conv2d)\n",
       "        (bn2): RecursiveScriptModule(original_name=BatchNorm2d)\n",
       "        (conv3): RecursiveScriptModule(original_name=Conv2d)\n",
       "        (bn3): RecursiveScriptModule(original_name=BatchNorm2d)\n",
       "        (relu): RecursiveScriptModule(original_name=ReLU)\n",
       "      )\n",
       "      (2): RecursiveScriptModule(\n",
       "        original_name=BottleneckV1b\n",
       "        (conv1): RecursiveScriptModule(original_name=Conv2d)\n",
       "        (bn1): RecursiveScriptModule(original_name=BatchNorm2d)\n",
       "        (conv2): RecursiveScriptModule(original_name=Conv2d)\n",
       "        (bn2): RecursiveScriptModule(original_name=BatchNorm2d)\n",
       "        (conv3): RecursiveScriptModule(original_name=Conv2d)\n",
       "        (bn3): RecursiveScriptModule(original_name=BatchNorm2d)\n",
       "        (relu): RecursiveScriptModule(original_name=ReLU)\n",
       "      )\n",
       "      (3): RecursiveScriptModule(\n",
       "        original_name=BottleneckV1b\n",
       "        (conv1): RecursiveScriptModule(original_name=Conv2d)\n",
       "        (bn1): RecursiveScriptModule(original_name=BatchNorm2d)\n",
       "        (conv2): RecursiveScriptModule(original_name=Conv2d)\n",
       "        (bn2): RecursiveScriptModule(original_name=BatchNorm2d)\n",
       "        (conv3): RecursiveScriptModule(original_name=Conv2d)\n",
       "        (bn3): RecursiveScriptModule(original_name=BatchNorm2d)\n",
       "        (relu): RecursiveScriptModule(original_name=ReLU)\n",
       "      )\n",
       "    )\n",
       "    (layer3): RecursiveScriptModule(\n",
       "      original_name=Sequential\n",
       "      (0): RecursiveScriptModule(\n",
       "        original_name=BottleneckV1b\n",
       "        (conv1): RecursiveScriptModule(original_name=Conv2d)\n",
       "        (bn1): RecursiveScriptModule(original_name=BatchNorm2d)\n",
       "        (conv2): RecursiveScriptModule(original_name=Conv2d)\n",
       "        (bn2): RecursiveScriptModule(original_name=BatchNorm2d)\n",
       "        (conv3): RecursiveScriptModule(original_name=Conv2d)\n",
       "        (bn3): RecursiveScriptModule(original_name=BatchNorm2d)\n",
       "        (relu): RecursiveScriptModule(original_name=ReLU)\n",
       "        (downsample): RecursiveScriptModule(\n",
       "          original_name=Sequential\n",
       "          (0): RecursiveScriptModule(original_name=Conv2d)\n",
       "          (1): RecursiveScriptModule(original_name=BatchNorm2d)\n",
       "        )\n",
       "      )\n",
       "      (1): RecursiveScriptModule(\n",
       "        original_name=BottleneckV1b\n",
       "        (conv1): RecursiveScriptModule(original_name=Conv2d)\n",
       "        (bn1): RecursiveScriptModule(original_name=BatchNorm2d)\n",
       "        (conv2): RecursiveScriptModule(original_name=Conv2d)\n",
       "        (bn2): RecursiveScriptModule(original_name=BatchNorm2d)\n",
       "        (conv3): RecursiveScriptModule(original_name=Conv2d)\n",
       "        (bn3): RecursiveScriptModule(original_name=BatchNorm2d)\n",
       "        (relu): RecursiveScriptModule(original_name=ReLU)\n",
       "      )\n",
       "      (2): RecursiveScriptModule(\n",
       "        original_name=BottleneckV1b\n",
       "        (conv1): RecursiveScriptModule(original_name=Conv2d)\n",
       "        (bn1): RecursiveScriptModule(original_name=BatchNorm2d)\n",
       "        (conv2): RecursiveScriptModule(original_name=Conv2d)\n",
       "        (bn2): RecursiveScriptModule(original_name=BatchNorm2d)\n",
       "        (conv3): RecursiveScriptModule(original_name=Conv2d)\n",
       "        (bn3): RecursiveScriptModule(original_name=BatchNorm2d)\n",
       "        (relu): RecursiveScriptModule(original_name=ReLU)\n",
       "      )\n",
       "      (3): RecursiveScriptModule(\n",
       "        original_name=BottleneckV1b\n",
       "        (conv1): RecursiveScriptModule(original_name=Conv2d)\n",
       "        (bn1): RecursiveScriptModule(original_name=BatchNorm2d)\n",
       "        (conv2): RecursiveScriptModule(original_name=Conv2d)\n",
       "        (bn2): RecursiveScriptModule(original_name=BatchNorm2d)\n",
       "        (conv3): RecursiveScriptModule(original_name=Conv2d)\n",
       "        (bn3): RecursiveScriptModule(original_name=BatchNorm2d)\n",
       "        (relu): RecursiveScriptModule(original_name=ReLU)\n",
       "      )\n",
       "      (4): RecursiveScriptModule(\n",
       "        original_name=BottleneckV1b\n",
       "        (conv1): RecursiveScriptModule(original_name=Conv2d)\n",
       "        (bn1): RecursiveScriptModule(original_name=BatchNorm2d)\n",
       "        (conv2): RecursiveScriptModule(original_name=Conv2d)\n",
       "        (bn2): RecursiveScriptModule(original_name=BatchNorm2d)\n",
       "        (conv3): RecursiveScriptModule(original_name=Conv2d)\n",
       "        (bn3): RecursiveScriptModule(original_name=BatchNorm2d)\n",
       "        (relu): RecursiveScriptModule(original_name=ReLU)\n",
       "      )\n",
       "      (5): RecursiveScriptModule(\n",
       "        original_name=BottleneckV1b\n",
       "        (conv1): RecursiveScriptModule(original_name=Conv2d)\n",
       "        (bn1): RecursiveScriptModule(original_name=BatchNorm2d)\n",
       "        (conv2): RecursiveScriptModule(original_name=Conv2d)\n",
       "        (bn2): RecursiveScriptModule(original_name=BatchNorm2d)\n",
       "        (conv3): RecursiveScriptModule(original_name=Conv2d)\n",
       "        (bn3): RecursiveScriptModule(original_name=BatchNorm2d)\n",
       "        (relu): RecursiveScriptModule(original_name=ReLU)\n",
       "      )\n",
       "    )\n",
       "    (layer4): RecursiveScriptModule(\n",
       "      original_name=Sequential\n",
       "      (0): RecursiveScriptModule(\n",
       "        original_name=BottleneckV1b\n",
       "        (conv1): RecursiveScriptModule(original_name=Conv2d)\n",
       "        (bn1): RecursiveScriptModule(original_name=BatchNorm2d)\n",
       "        (conv2): RecursiveScriptModule(original_name=Conv2d)\n",
       "        (bn2): RecursiveScriptModule(original_name=BatchNorm2d)\n",
       "        (conv3): RecursiveScriptModule(original_name=Conv2d)\n",
       "        (bn3): RecursiveScriptModule(original_name=BatchNorm2d)\n",
       "        (relu): RecursiveScriptModule(original_name=ReLU)\n",
       "        (downsample): RecursiveScriptModule(\n",
       "          original_name=Sequential\n",
       "          (0): RecursiveScriptModule(original_name=Conv2d)\n",
       "          (1): RecursiveScriptModule(original_name=BatchNorm2d)\n",
       "        )\n",
       "      )\n",
       "      (1): RecursiveScriptModule(\n",
       "        original_name=BottleneckV1b\n",
       "        (conv1): RecursiveScriptModule(original_name=Conv2d)\n",
       "        (bn1): RecursiveScriptModule(original_name=BatchNorm2d)\n",
       "        (conv2): RecursiveScriptModule(original_name=Conv2d)\n",
       "        (bn2): RecursiveScriptModule(original_name=BatchNorm2d)\n",
       "        (conv3): RecursiveScriptModule(original_name=Conv2d)\n",
       "        (bn3): RecursiveScriptModule(original_name=BatchNorm2d)\n",
       "        (relu): RecursiveScriptModule(original_name=ReLU)\n",
       "      )\n",
       "      (2): RecursiveScriptModule(\n",
       "        original_name=BottleneckV1b\n",
       "        (conv1): RecursiveScriptModule(original_name=Conv2d)\n",
       "        (bn1): RecursiveScriptModule(original_name=BatchNorm2d)\n",
       "        (conv2): RecursiveScriptModule(original_name=Conv2d)\n",
       "        (bn2): RecursiveScriptModule(original_name=BatchNorm2d)\n",
       "        (conv3): RecursiveScriptModule(original_name=Conv2d)\n",
       "        (bn3): RecursiveScriptModule(original_name=BatchNorm2d)\n",
       "        (relu): RecursiveScriptModule(original_name=ReLU)\n",
       "      )\n",
       "    )\n",
       "    (avgpool): RecursiveScriptModule(original_name=AdaptiveAvgPool2d)\n",
       "    (fc): RecursiveScriptModule(original_name=Linear)\n",
       "  )\n",
       "  (head): RecursiveScriptModule(\n",
       "    original_name=_DeepLabHead\n",
       "    (aspp): RecursiveScriptModule(\n",
       "      original_name=_ASPP\n",
       "      (aspp0): RecursiveScriptModule(\n",
       "        original_name=Sequential\n",
       "        (conv): RecursiveScriptModule(original_name=Conv2d)\n",
       "        (bn): RecursiveScriptModule(original_name=BatchNorm2d)\n",
       "        (relu): RecursiveScriptModule(original_name=ReLU)\n",
       "      )\n",
       "      (aspp1): RecursiveScriptModule(\n",
       "        original_name=SeparableConv2d\n",
       "        (block): RecursiveScriptModule(\n",
       "          original_name=Sequential\n",
       "          (depthwise): RecursiveScriptModule(original_name=Conv2d)\n",
       "          (bn_depth): RecursiveScriptModule(original_name=BatchNorm2d)\n",
       "          (relu1): RecursiveScriptModule(original_name=ReLU)\n",
       "          (pointwise): RecursiveScriptModule(original_name=Conv2d)\n",
       "          (bn_point): RecursiveScriptModule(original_name=BatchNorm2d)\n",
       "          (relu2): RecursiveScriptModule(original_name=ReLU)\n",
       "        )\n",
       "      )\n",
       "      (aspp2): RecursiveScriptModule(\n",
       "        original_name=SeparableConv2d\n",
       "        (block): RecursiveScriptModule(\n",
       "          original_name=Sequential\n",
       "          (depthwise): RecursiveScriptModule(original_name=Conv2d)\n",
       "          (bn_depth): RecursiveScriptModule(original_name=BatchNorm2d)\n",
       "          (relu1): RecursiveScriptModule(original_name=ReLU)\n",
       "          (pointwise): RecursiveScriptModule(original_name=Conv2d)\n",
       "          (bn_point): RecursiveScriptModule(original_name=BatchNorm2d)\n",
       "          (relu2): RecursiveScriptModule(original_name=ReLU)\n",
       "        )\n",
       "      )\n",
       "      (aspp3): RecursiveScriptModule(\n",
       "        original_name=SeparableConv2d\n",
       "        (block): RecursiveScriptModule(\n",
       "          original_name=Sequential\n",
       "          (depthwise): RecursiveScriptModule(original_name=Conv2d)\n",
       "          (bn_depth): RecursiveScriptModule(original_name=BatchNorm2d)\n",
       "          (relu1): RecursiveScriptModule(original_name=ReLU)\n",
       "          (pointwise): RecursiveScriptModule(original_name=Conv2d)\n",
       "          (bn_point): RecursiveScriptModule(original_name=BatchNorm2d)\n",
       "          (relu2): RecursiveScriptModule(original_name=ReLU)\n",
       "        )\n",
       "      )\n",
       "      (image_pooling): RecursiveScriptModule(\n",
       "        original_name=Sequential\n",
       "        (gap): RecursiveScriptModule(original_name=AdaptiveAvgPool2d)\n",
       "        (conv): RecursiveScriptModule(original_name=Conv2d)\n",
       "        (bn): RecursiveScriptModule(original_name=BatchNorm2d)\n",
       "        (relu): RecursiveScriptModule(original_name=ReLU)\n",
       "      )\n",
       "      (conv): RecursiveScriptModule(original_name=Conv2d)\n",
       "      (bn): RecursiveScriptModule(original_name=BatchNorm2d)\n",
       "      (relu): RecursiveScriptModule(original_name=ReLU)\n",
       "      (dropout): RecursiveScriptModule(original_name=Dropout2d)\n",
       "    )\n",
       "    (c1_block): RecursiveScriptModule(\n",
       "      original_name=_ConvBNReLU\n",
       "      (conv): RecursiveScriptModule(original_name=Conv2d)\n",
       "      (bn): RecursiveScriptModule(original_name=BatchNorm2d)\n",
       "      (relu): RecursiveScriptModule(original_name=ReLU)\n",
       "    )\n",
       "    (block): RecursiveScriptModule(\n",
       "      original_name=Sequential\n",
       "      (0): RecursiveScriptModule(\n",
       "        original_name=SeparableConv2d\n",
       "        (block): RecursiveScriptModule(\n",
       "          original_name=Sequential\n",
       "          (depthwise): RecursiveScriptModule(original_name=Conv2d)\n",
       "          (bn_depth): RecursiveScriptModule(original_name=BatchNorm2d)\n",
       "          (relu1): RecursiveScriptModule(original_name=ReLU)\n",
       "          (pointwise): RecursiveScriptModule(original_name=Conv2d)\n",
       "          (bn_point): RecursiveScriptModule(original_name=BatchNorm2d)\n",
       "          (relu2): RecursiveScriptModule(original_name=ReLU)\n",
       "        )\n",
       "      )\n",
       "      (1): RecursiveScriptModule(\n",
       "        original_name=SeparableConv2d\n",
       "        (block): RecursiveScriptModule(\n",
       "          original_name=Sequential\n",
       "          (depthwise): RecursiveScriptModule(original_name=Conv2d)\n",
       "          (bn_depth): RecursiveScriptModule(original_name=BatchNorm2d)\n",
       "          (relu1): RecursiveScriptModule(original_name=ReLU)\n",
       "          (pointwise): RecursiveScriptModule(original_name=Conv2d)\n",
       "          (bn_point): RecursiveScriptModule(original_name=BatchNorm2d)\n",
       "          (relu2): RecursiveScriptModule(original_name=ReLU)\n",
       "        )\n",
       "      )\n",
       "      (2): RecursiveScriptModule(original_name=Conv2d)\n",
       "    )\n",
       "  )\n",
       ")"
      ]
     },
     "execution_count": 32,
     "metadata": {},
     "output_type": "execute_result"
    }
   ],
   "source": [
    "device = torch.device(\"cuda\" if torch.cuda.is_available() else \"cpu\") \n",
    "\n",
    "# HRNet\n",
    "\n",
    "model = torch.jit.load(\"deeplab.pth\")\n",
    "model = model.cpu()\n",
    "model.eval()\n"
   ]
  },
  {
   "cell_type": "code",
   "execution_count": 33,
   "metadata": {},
   "outputs": [],
   "source": [
    "import torchvision.transforms as transforms\n",
    "def transform_image(image):\n",
    "    my_transforms = transforms.Compose([transforms.ToTensor(),\n",
    "                                        transforms.Normalize(\n",
    "                                            [0.485, 0.456, 0.406],\n",
    "                                            [0.229, 0.224, 0.225])])\n",
    "    image_aux = image\n",
    "    return my_transforms(image_aux).unsqueeze(0).to(device)"
   ]
  },
  {
   "cell_type": "code",
   "execution_count": 53,
   "metadata": {},
   "outputs": [],
   "source": [
    "image = Image.open('dataset/Images/test/color_154.jpg')"
   ]
  },
  {
   "cell_type": "code",
   "execution_count": 54,
   "metadata": {},
   "outputs": [],
   "source": [
    "image = transforms.Resize((480,640))(image)\n",
    "tensor = transform_image(image=image)"
   ]
  },
  {
   "cell_type": "code",
   "execution_count": 1,
   "metadata": {},
   "outputs": [
    {
     "ename": "NameError",
     "evalue": "name 'model' is not defined",
     "output_type": "error",
     "traceback": [
      "\u001b[0;31m---------------------------------------------------------------------------\u001b[0m",
      "\u001b[0;31mNameError\u001b[0m                                 Traceback (most recent call last)",
      "\u001b[0;32m<ipython-input-1-df8b25ef78d2>\u001b[0m in \u001b[0;36m<module>\u001b[0;34m\u001b[0m\n\u001b[0;32m----> 1\u001b[0;31m \u001b[0mmodel\u001b[0m\u001b[0;34m.\u001b[0m\u001b[0mto\u001b[0m\u001b[0;34m(\u001b[0m\u001b[0mdevice\u001b[0m\u001b[0;34m)\u001b[0m\u001b[0;34m\u001b[0m\u001b[0;34m\u001b[0m\u001b[0m\n\u001b[0m\u001b[1;32m      2\u001b[0m \u001b[0;32mwith\u001b[0m \u001b[0mtorch\u001b[0m\u001b[0;34m.\u001b[0m\u001b[0mno_grad\u001b[0m\u001b[0;34m(\u001b[0m\u001b[0;34m)\u001b[0m\u001b[0;34m:\u001b[0m\u001b[0;34m\u001b[0m\u001b[0;34m\u001b[0m\u001b[0m\n\u001b[1;32m      3\u001b[0m     \u001b[0moutputs\u001b[0m \u001b[0;34m=\u001b[0m \u001b[0mmodel\u001b[0m\u001b[0;34m(\u001b[0m\u001b[0mtensor\u001b[0m\u001b[0;34m)\u001b[0m\u001b[0;34m\u001b[0m\u001b[0;34m\u001b[0m\u001b[0m\n\u001b[1;32m      4\u001b[0m \u001b[0;34m\u001b[0m\u001b[0m\n\u001b[1;32m      5\u001b[0m \u001b[0moutputs\u001b[0m \u001b[0;34m=\u001b[0m \u001b[0mtorch\u001b[0m\u001b[0;34m.\u001b[0m\u001b[0margmax\u001b[0m\u001b[0;34m(\u001b[0m\u001b[0moutputs\u001b[0m\u001b[0;34m,\u001b[0m\u001b[0;36m1\u001b[0m\u001b[0;34m)\u001b[0m\u001b[0;34m\u001b[0m\u001b[0;34m\u001b[0m\u001b[0m\n",
      "\u001b[0;31mNameError\u001b[0m: name 'model' is not defined"
     ]
    }
   ],
   "source": [
    "model.to(device)\n",
    "with torch.no_grad():\n",
    "    outputs = model(tensor)\n",
    "\n",
    "outputs = torch.argmax(outputs,1)"
   ]
  },
  {
   "cell_type": "code",
   "execution_count": 56,
   "metadata": {},
   "outputs": [],
   "source": [
    "mask = np.array(outputs.cpu())"
   ]
  },
  {
   "cell_type": "code",
   "execution_count": 57,
   "metadata": {},
   "outputs": [],
   "source": [
    "mask[mask==4]=255\n",
    "mask[mask==1]=150\n",
    "mask[mask==3]=76\n",
    "mask[mask==2]=29"
   ]
  },
  {
   "cell_type": "code",
   "execution_count": 58,
   "metadata": {},
   "outputs": [],
   "source": [
    "mask=np.reshape(mask,(480,640))"
   ]
  },
  {
   "cell_type": "code",
   "execution_count": 59,
   "metadata": {},
   "outputs": [
    {
     "data": {
      "image/png": "[encoded data removed]",
      "text/plain": [
       "<PIL.Image.Image image mode=L size=640x480 at 0x7FB71078F6D8>"
      ]
     },
     "execution_count": 59,
     "metadata": {},
     "output_type": "execute_result"
    }
   ],
   "source": [
    "maskShow = Image.fromarray(mask.astype('uint8'))\n",
    "maskShow"
   ]
  },
  {
   "cell_type": "code",
   "execution_count": 60,
   "metadata": {},
   "outputs": [],
   "source": [
    "maskrgb = maskShow.convert('RGB')\n",
    "maskrgb = np.array(maskrgb)\n",
    "maskrgb[(maskrgb==[150,150,150]).all(axis=2)]=[0,255,0]\n",
    "maskrgb[(maskrgb==[76,76,76]).all(axis=2)]=[255,0,0]\n",
    "maskrgb[(maskrgb==[29,29,29]).all(axis=2)]=[0,0,255]"
   ]
  },
  {
   "cell_type": "code",
   "execution_count": 61,
   "metadata": {
    "scrolled": true
   },
   "outputs": [
    {
     "data": {
      "image/png": "[encoded data removed]",
      "text/plain": [
       "<PIL.Image.Image image mode=RGB size=640x480 at 0x7FB7F908B860>"
      ]
     },
     "execution_count": 61,
     "metadata": {},
     "output_type": "execute_result"
    }
   ],
   "source": [
    "maskRGBShow = Image.fromarray(maskrgb.astype('uint8'))\n",
    "maskRGBShow"
   ]
  },
  {
   "cell_type": "code",
   "execution_count": 43,
   "metadata": {},
   "outputs": [],
   "source": [
    "maskRGBShow.save('deeplab_pred_155.jpg')"
   ]
  },
  {
   "cell_type": "code",
   "execution_count": null,
   "metadata": {},
   "outputs": [],
   "source": []
  }
 ],
 "metadata": {
  "kernelspec": {
   "display_name": "Python 3 (ipykernel)",
   "language": "python",
   "name": "python3"
  },
  "language_info": {
   "codemirror_mode": {
    "name": "ipython",
    "version": 3
   },
   "file_extension": ".py",
   "mimetype": "text/x-python",
   "name": "python",
   "nbconvert_exporter": "python",
   "pygments_lexer": "ipython3",
   "version": "3.9.16"
  }
 },
 "nbformat": 4,
 "nbformat_minor": 4
}
